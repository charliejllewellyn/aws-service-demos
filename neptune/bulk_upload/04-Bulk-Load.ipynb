{
 "cells": [
  {
   "cell_type": "markdown",
   "metadata": {
    "slideshow": {
     "slide_type": "-"
    }
   },
   "source": [
    "# Bulk loading data\n",
    "In this example we're going to bulk load data into Neptune from S3. \n",
    "\n"
   ]
  },
  {
   "cell_type": "markdown",
   "metadata": {},
   "source": [
    "### Pre-reqs\n",
    "\n",
    "As a pre-requiste we need to create a S3 bucket and upload our content. For this demo we're using https://github.com/aws-samples/amazon-neptune-samples/tree/master/gremlin/collaborative-filtering/data\n",
    "\n",
    "We also need to make sure Neptune has a role that allows it to list and read from the S3 bucket and that there is an S3 endpoint in the VPC to allow private access to the bucket"
   ]
  },
  {
   "cell_type": "markdown",
   "metadata": {},
   "source": [
    "### Bulk load data\n",
    "\n",
    "Next we'll use the bulk loader API to tell Neptune to upload content"
   ]
  },
  {
   "cell_type": "code",
   "execution_count": 91,
   "metadata": {},
   "outputs": [
    {
     "name": "stdout",
     "output_type": "stream",
     "text": [
      "200\n",
      "59f1ae12-3f1f-4ffa-b7ca-659bf6d5d781\n"
     ]
    }
   ],
   "source": [
    "import requests\n",
    "import json\n",
    "neptune_endpoint = 'https://neptunedbcluster-8booe3qn0pin.cluster-cjsktiz5uanu.eu-west-2.neptune.amazonaws.com:8182/loader'\n",
    "s3_bucket = 's3://cjl-temp-eu-west-2/'\n",
    "iam_neptune_s3_role_arn = 'arn:aws:iam::008369042577:role/Neptune-SageMaker-Tutorial-N-NeptuneLoadFromS3Role-3HBYVXB7IMKX'\n",
    "headers = {'Content-Type': 'application/json'}\n",
    "json_data = {}\n",
    "json_data['source'] = s3_bucket\n",
    "json_data['iamRoleArn'] = iam_neptune_s3_role_arn\n",
    "json_data['format'] = 'csv'\n",
    "json_data['region'] = 'eu-west-2'\n",
    "json_data['failOnError'] = 'FALSE'\n",
    "\n",
    "r = requests.post(neptune_endpoint, data=json.dumps(json_data), headers=headers)\n",
    "print(r.status_code)\n",
    "print(json.loads(r.text)['payload']['loadId'])"
   ]
  },
  {
   "cell_type": "markdown",
   "metadata": {},
   "source": [
    "### Validate upload\n",
    "\n",
    "We can see the upload request was successfully accepted as shown by the 200 status code and the load ID. \n",
    "\n",
    "We can use the load ID to now check the status of the upload."
   ]
  },
  {
   "cell_type": "code",
   "execution_count": null,
   "metadata": {},
   "outputs": [],
   "source": []
  },
  {
   "cell_type": "code",
   "execution_count": 92,
   "metadata": {},
   "outputs": [
    {
     "name": "stdout",
     "output_type": "stream",
     "text": [
      "200\n",
      "{\n",
      "    \"status\" : \"200 OK\",\n",
      "    \"payload\" : {\n",
      "        \"feedCount\" : [\n",
      "            {\n",
      "                \"LOAD_COMPLETED\" : 2\n",
      "            }\n",
      "        ],\n",
      "        \"overallStatus\" : {\n",
      "            \"fullUri\" : \"s3://cjl-temp-eu-west-2/\",\n",
      "            \"runNumber\" : 14,\n",
      "            \"retryNumber\" : 0,\n",
      "            \"status\" : \"LOAD_COMPLETED\",\n",
      "            \"totalTimeSpent\" : 6,\n",
      "            \"totalRecords\" : 151,\n",
      "            \"totalDuplicates\" : 0,\n",
      "            \"parsingErrors\" : 0,\n",
      "            \"datatypeMismatchErrors\" : 0,\n",
      "            \"insertErrors\" : 0\n",
      "        }\n",
      "    }\n",
      "}\n"
     ]
    }
   ],
   "source": [
    "import requests\n",
    "neptune_endpoint = 'https://neptunedbcluster-8booe3qn0pin.cluster-cjsktiz5uanu.eu-west-2.neptune.amazonaws.com:8182/loader'\n",
    "load_id = '59f1ae12-3f1f-4ffa-b7ca-659bf6d5d781'\n",
    "\n",
    "r = requests.get(neptune_endpoint + '?loadId=' + load_id)\n",
    "print(r.status_code)\n",
    "print(r.text)"
   ]
  },
  {
   "cell_type": "markdown",
   "metadata": {},
   "source": [
    "### Validate results\n",
    "\n",
    "We'll now validate the results by querying some of the data we uploaded."
   ]
  },
  {
   "cell_type": "code",
   "execution_count": 101,
   "metadata": {},
   "outputs": [
    {
     "data": {
      "text/plain": [
       "{'GamerAlias': ['skywalker123']}"
      ]
     },
     "execution_count": 101,
     "metadata": {},
     "output_type": "execute_result"
    }
   ],
   "source": [
    "g.V().hasId('Luke').valueMap(). \\\n",
    "next()"
   ]
  },
  {
   "cell_type": "code",
   "execution_count": 110,
   "metadata": {},
   "outputs": [
    {
     "data": {
      "text/plain": [
       "{'PS4': 9, 'Switch': 4}"
      ]
     },
     "execution_count": 110,
     "metadata": {},
     "output_type": "execute_result"
    }
   ],
   "source": [
    "g.V().hasLabel('game').groupCount().by(\"Platform\"). \\\n",
    "next()"
   ]
  },
  {
   "cell_type": "code",
   "execution_count": 112,
   "metadata": {},
   "outputs": [
    {
     "data": {
      "text/plain": [
       "{'Shooter': 2, 'Action': 3, 'Adventure': 5, 'Racing': 2, 'Sports': 1}"
      ]
     },
     "execution_count": 112,
     "metadata": {},
     "output_type": "execute_result"
    }
   ],
   "source": [
    "g.V().hasLabel('game').groupCount().by(\"GameGenre\"). \\\n",
    "next()"
   ]
  },
  {
   "cell_type": "code",
   "execution_count": null,
   "metadata": {},
   "outputs": [],
   "source": []
  }
 ],
 "metadata": {
  "kernelspec": {
   "display_name": "conda_python3",
   "language": "python",
   "name": "conda_python3"
  },
  "language_info": {
   "codemirror_mode": {
    "name": "ipython",
    "version": 3
   },
   "file_extension": ".py",
   "mimetype": "text/x-python",
   "name": "python",
   "nbconvert_exporter": "python",
   "pygments_lexer": "ipython3",
   "version": "3.6.5"
  }
 },
 "nbformat": 4,
 "nbformat_minor": 2
}
